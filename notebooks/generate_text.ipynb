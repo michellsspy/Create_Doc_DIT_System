{
 "cells": [
  {
   "cell_type": "code",
   "execution_count": 99,
   "id": "4628cf9d",
   "metadata": {},
   "outputs": [],
   "source": [
    "import openai"
   ]
  },
  {
   "cell_type": "code",
   "execution_count": 100,
   "id": "4db71f19",
   "metadata": {},
   "outputs": [],
   "source": [
    "client = openai.Client()"
   ]
  },
  {
   "cell_type": "code",
   "execution_count": 101,
   "id": "55b8b30a",
   "metadata": {},
   "outputs": [],
   "source": [
    "mensagens = [{\"role\":\"user\", \"content\":\"Defina uma laranja em 5 palavras?\"}]"
   ]
  },
  {
   "cell_type": "code",
   "execution_count": 102,
   "id": "98c199c3",
   "metadata": {},
   "outputs": [],
   "source": [
    "resposta = client.chat.completions.create(\n",
    "    messages=mensagens,\n",
    "    model=\"gpt-3.5-turbo-0125\",\n",
    "    max_tokens=1000,\n",
    "    temperature=0\n",
    ")\n"
   ]
  },
  {
   "cell_type": "code",
   "execution_count": 103,
   "id": "2db4c26d",
   "metadata": {},
   "outputs": [
    {
     "data": {
      "text/plain": [
       "ChatCompletion(id='chatcmpl-Bnnqdv2h1dxeJzYtTQ8LKkhhT37rC', choices=[Choice(finish_reason='stop', index=0, logprobs=None, message=ChatCompletionMessage(content='Fruta cítrica suculenta e saborosa.', refusal=None, role='assistant', annotations=[], audio=None, function_call=None, tool_calls=None))], created=1751209387, model='gpt-3.5-turbo-0125', object='chat.completion', service_tier='default', system_fingerprint=None, usage=CompletionUsage(completion_tokens=14, prompt_tokens=19, total_tokens=33, completion_tokens_details=CompletionTokensDetails(accepted_prediction_tokens=0, audio_tokens=0, reasoning_tokens=0, rejected_prediction_tokens=0), prompt_tokens_details=PromptTokensDetails(audio_tokens=0, cached_tokens=0)))"
      ]
     },
     "execution_count": 103,
     "metadata": {},
     "output_type": "execute_result"
    }
   ],
   "source": [
    "resposta"
   ]
  },
  {
   "cell_type": "code",
   "execution_count": 104,
   "id": "d845b861",
   "metadata": {},
   "outputs": [
    {
     "data": {
      "text/plain": [
       "'Fruta cítrica suculenta e saborosa.'"
      ]
     },
     "execution_count": 104,
     "metadata": {},
     "output_type": "execute_result"
    }
   ],
   "source": [
    "resposta.choices[0].message.content"
   ]
  },
  {
   "cell_type": "code",
   "execution_count": 105,
   "id": "9f7b6e41",
   "metadata": {},
   "outputs": [],
   "source": [
    "mensagens.append({\"role\":\"assistant\", \"content\":resposta.choices[0].message.content})"
   ]
  },
  {
   "cell_type": "code",
   "execution_count": 106,
   "id": "917be074",
   "metadata": {},
   "outputs": [],
   "source": [
    "mensagens.append({\"role\":\"user\", \"content\":\"E qual a cor dela?\"})"
   ]
  },
  {
   "cell_type": "code",
   "execution_count": 107,
   "id": "f38b3ba9",
   "metadata": {},
   "outputs": [],
   "source": [
    "resposta = client.chat.completions.create(\n",
    "    messages=mensagens,\n",
    "    model=\"gpt-3.5-turbo-0125\",\n",
    "    max_tokens=1000,\n",
    "    temperature=0\n",
    ")\n"
   ]
  },
  {
   "cell_type": "code",
   "execution_count": 108,
   "id": "fe6d20e5",
   "metadata": {},
   "outputs": [
    {
     "data": {
      "text/plain": [
       "'Laranja.'"
      ]
     },
     "execution_count": 108,
     "metadata": {},
     "output_type": "execute_result"
    }
   ],
   "source": [
    "resposta.choices[0].message.content"
   ]
  },
  {
   "cell_type": "code",
   "execution_count": 109,
   "id": "e2fba3b9",
   "metadata": {},
   "outputs": [],
   "source": [
    "mensagens.append({\"role\":\"assistant\", \"content\":resposta.choices[0].message.content})"
   ]
  },
  {
   "cell_type": "code",
   "execution_count": 110,
   "id": "39eb5f13",
   "metadata": {},
   "outputs": [
    {
     "data": {
      "text/plain": [
       "[{'role': 'user', 'content': 'Defina uma laranja em 5 palavras?'},\n",
       " {'role': 'assistant', 'content': 'Fruta cítrica suculenta e saborosa.'},\n",
       " {'role': 'user', 'content': 'E qual a cor dela?'},\n",
       " {'role': 'assistant', 'content': 'Laranja.'}]"
      ]
     },
     "execution_count": 110,
     "metadata": {},
     "output_type": "execute_result"
    }
   ],
   "source": [
    "mensagens"
   ]
  },
  {
   "cell_type": "markdown",
   "id": "320c1e75",
   "metadata": {},
   "source": [
    "## Utilizando funções\n"
   ]
  },
  {
   "cell_type": "code",
   "execution_count": 111,
   "id": "657737c8",
   "metadata": {},
   "outputs": [],
   "source": [
    "def gereacao_texto(mensagens, model=\"gpt-3.5-turbo-0125\", max_tokens=1000, temperature=0):\n",
    "    resposta = client.chat.completions.create(\n",
    "        messages=mensagens,\n",
    "        model=model,\n",
    "        max_tokens=max_tokens,\n",
    "        temperature=temperature\n",
    "    )\n",
    "    mensagens.append({\"role\":\"assistant\", \"content\":resposta.choices[0].message.content})\n",
    "    return mensagens"
   ]
  },
  {
   "cell_type": "code",
   "execution_count": 112,
   "id": "33062581",
   "metadata": {},
   "outputs": [
    {
     "data": {
      "text/plain": [
       "[{'role': 'user', 'content': 'nada'},\n",
       " {'role': 'assistant', 'content': 'Hola, ¿en qué puedo ayudarte hoy?'}]"
      ]
     },
     "execution_count": 112,
     "metadata": {},
     "output_type": "execute_result"
    }
   ],
   "source": [
    "m = input(\"Faça uma pergunta: \") # Defina o que é API em 5 palavras?\n",
    "msg1 = [{\"role\":\"user\", \"content\":m}]\n",
    "mensagens = gereacao_texto(msg1)\n",
    "mensagens"
   ]
  },
  {
   "cell_type": "markdown",
   "id": "57e0d2c6",
   "metadata": {},
   "source": [
    "## Utilizando Stream"
   ]
  },
  {
   "cell_type": "code",
   "execution_count": 113,
   "id": "658801cc",
   "metadata": {},
   "outputs": [],
   "source": [
    "mensagens = [{\"role\":\"user\", \"content\":\"Conte uma fábula sobre a lua em no máximo 150 palavras.\"}]\n",
    "resposta = client.chat.completions.create(\n",
    "    messages=mensagens,\n",
    "    model=\"gpt-3.5-turbo-0125\",\n",
    "    max_tokens=1000,\n",
    "    temperature=0,\n",
    "    stream=True\n",
    ")"
   ]
  },
  {
   "cell_type": "code",
   "execution_count": 114,
   "id": "89a4132a",
   "metadata": {},
   "outputs": [
    {
     "name": "stdout",
     "output_type": "stream",
     "text": [
      "Há muito tempo, a lua era uma bela princesa que vivia no céu, iluminando as noites escuras com seu brilho prateado. Ela era adorada por todos os seres vivos da Terra, que admiravam sua beleza e serenidade.\n",
      "\n",
      "Um dia, um malvado feiticeiro ficou encantado pela lua e decidiu roubá-la do céu. Com seus poderes sombrios, ele a aprisionou em um espelho mágico, fazendo com que seu brilho desaparecesse do céu noturno.\n",
      "\n",
      "Os animais e humanos ficaram tristes e desolados sem a presença da lua. Mas, com a ajuda de uma corajosa coruja, que voou até o castelo do feiticeiro e quebrou o espelho, a lua foi finalmente libertada.\n",
      "\n",
      "Desde então, a lua brilha todas as noites no céu, lembrando a todos que a beleza e a luz sempre prevalecem sobre a escuridão. E a coruja, em agradecimento, ganhou o dom de enxergar no escuro, tornando-se a guardiã da lua para sempre."
     ]
    }
   ],
   "source": [
    "for resp in resposta:\n",
    "    texto = resp.choices[0].delta.content\n",
    "    if texto:\n",
    "        print(texto, end=\"\")"
   ]
  }
 ],
 "metadata": {
  "kernelspec": {
   "display_name": ".venv",
   "language": "python",
   "name": "python3"
  },
  "language_info": {
   "codemirror_mode": {
    "name": "ipython",
    "version": 3
   },
   "file_extension": ".py",
   "mimetype": "text/x-python",
   "name": "python",
   "nbconvert_exporter": "python",
   "pygments_lexer": "ipython3",
   "version": "3.13.5"
  }
 },
 "nbformat": 4,
 "nbformat_minor": 5
}
