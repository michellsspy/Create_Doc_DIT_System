{
 "cells": [
  {
   "cell_type": "code",
   "execution_count": 11,
   "id": "f5192789",
   "metadata": {},
   "outputs": [
    {
     "name": "stdout",
     "output_type": "stream",
     "text": [
      "          data  valor\n",
      "0   2017-01-01   0.42\n",
      "1   2017-02-01   0.24\n",
      "2   2017-03-01   0.32\n",
      "3   2017-04-01   0.08\n",
      "4   2017-05-01   0.36\n",
      "..         ...    ...\n",
      "96  2025-01-01   0.00\n",
      "97  2025-02-01   1.48\n",
      "98  2025-03-01   0.51\n",
      "99  2025-04-01   0.48\n",
      "100 2025-05-01   0.35\n",
      "\n",
      "[101 rows x 2 columns]\n"
     ]
    }
   ],
   "source": [
    "import pandas as pd\n",
    "import requests\n",
    "from datetime import datetime\n",
    "\n",
    "def get_bcb_data(code, start='01/01/2015', end=None):\n",
    "    if end is None:\n",
    "        end = datetime.today().strftime('%d/%m/%Y')\n",
    "    \n",
    "    url = (\n",
    "        f'https://api.bcb.gov.br/dados/serie/bcdata.sgs.{code}/dados'\n",
    "        f'?formato=json&dataInicial={start}&dataFinal={end}'\n",
    "    )\n",
    "    \n",
    "    r = requests.get(url)\n",
    "    \n",
    "    try:\n",
    "        data = r.json()\n",
    "        if not isinstance(data, list):\n",
    "            print(\"❌ A resposta não é uma lista.\")\n",
    "            print(data)\n",
    "            return pd.DataFrame()\n",
    "    except Exception as e:\n",
    "        print(\"Erro ao fazer o parse do JSON:\", e)\n",
    "        return pd.DataFrame()\n",
    "    \n",
    "    df = pd.DataFrame(data)\n",
    "    df['valor'] = df['valor'].str.replace(',', '.').astype(float)\n",
    "    df['data'] = pd.to_datetime(df['data'], dayfirst=True)\n",
    "    return df\n",
    "\n",
    "# Testando com código 11 (SELIC) e intervalo válido\n",
    "selic = get_bcb_data(188, start='01/01/2017')\n",
    "print(selic)\n"
   ]
  },
  {
   "cell_type": "code",
   "execution_count": 2,
   "id": "8f8dd1ad",
   "metadata": {},
   "outputs": [
    {
     "name": "stderr",
     "output_type": "stream",
     "text": [
      "C:\\Users\\MichelSouzaSantana\\AppData\\Local\\Temp\\ipykernel_13184\\2616062735.py:3: FutureWarning: YF.download() has changed argument auto_adjust default to True\n",
      "  usd_brl = yf.download('USDBRL=X', period='30d', interval='1d')\n",
      "[*********************100%***********************]  1 of 1 completed"
     ]
    },
    {
     "name": "stdout",
     "output_type": "stream",
     "text": [
      "Price         Close     High       Low     Open   Volume\n",
      "Ticker     USDBRL=X USDBRL=X  USDBRL=X USDBRL=X USDBRL=X\n",
      "Date                                                    \n",
      "2025-06-24   5.4938   5.5106  5.474600   5.4938        0\n",
      "2025-06-25   5.5103   5.5735  5.502148   5.5103        0\n",
      "2025-06-26   5.5579   5.5604  5.496318   5.5579        0\n",
      "2025-06-27   5.4771   5.5024  5.456028   5.4771        0\n",
      "2025-06-29   5.4777   5.4777  5.477700   5.4777        0\n"
     ]
    },
    {
     "name": "stderr",
     "output_type": "stream",
     "text": [
      "\n"
     ]
    }
   ],
   "source": [
    "import yfinance as yf\n",
    "\n",
    "usd_brl = yf.download('USDBRL=X', period='30d', interval='1d')\n",
    "print(usd_brl.tail())\n"
   ]
  }
 ],
 "metadata": {
  "kernelspec": {
   "display_name": ".venv",
   "language": "python",
   "name": "python3"
  },
  "language_info": {
   "codemirror_mode": {
    "name": "ipython",
    "version": 3
   },
   "file_extension": ".py",
   "mimetype": "text/x-python",
   "name": "python",
   "nbconvert_exporter": "python",
   "pygments_lexer": "ipython3",
   "version": "3.13.5"
  }
 },
 "nbformat": 4,
 "nbformat_minor": 5
}
